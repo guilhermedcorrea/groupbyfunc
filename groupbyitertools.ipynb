{
 "cells": [
  {
   "cell_type": "code",
   "execution_count": 1,
   "metadata": {},
   "outputs": [
    {
     "name": "stdout",
     "output_type": "stream",
     "text": [
      "{'SKU': '01010001002569', 'SALDO': 891.83}\n",
      "{'SKU': '01010001002572', 'SALDO': 161.6}\n",
      "{'SKU': '01010001002589', 'SALDO': 177.76}\n",
      "{'SKU': '01010001002573', 'SALDO': 146.45}\n",
      "{'SKU': '01010001002576', 'SALDO': 565.6}\n",
      "{'SKU': '01010001002594', 'SALDO': 444.4}\n",
      "{'SKU': '01010001002595', 'SALDO': 609.03}\n",
      "{'SKU': '01040008002827', 'SALDO': 3885.96}\n"
     ]
    }
   ],
   "source": [
    "import itertools\n",
    "\n",
    "items = [{'SKU': '01010001002569', 'SALDO': '714,07'}, {'SKU': '01010001002569', 'SALDO': '177,76'}, {'SKU': '01010001002572', 'SALDO': '161,60'}\n",
    ", {'SKU': '01010001002589', 'SALDO': '177,76'}, {'SKU': '01010001002573', 'SALDO': '146,45'}, {'SKU': '01010001002576', 'SALDO': '565,60'}\n",
    ", {'SKU': '01010001002594', 'SALDO': '444,40'}, {'SKU': '01010001002595', 'SALDO': '609,03'}, {'SKU': '01040008002827', 'SALDO': '768,30'}\n",
    ", {'SKU': '01040008002827', 'SALDO': '709,20'}, {'SKU': '01040008002827', 'SALDO': '289,59'}, {'SKU': '01040008002827', 'SALDO': '295,50'}\n",
    ", {'SKU': '01040008002827', 'SALDO': '236,40'}, {'SKU': '01040008002827', 'SALDO': '336,96'}, {'SKU': '01040008002827', 'SALDO': '1.250,01'}]\n",
    "\n",
    "def get_referencias(sku):\n",
    "    return sku['SKU']\n",
    "\n",
    "try:\n",
    "    agrupa_produtos = itertools.groupby(items, get_referencias)\n",
    "except:\n",
    "    print(\"Groupby Error\")\n",
    "\n",
    "for sku, saldos in agrupa_produtos:\n",
    "    lista = []\n",
    "   \n",
    "    for saldo in saldos:\n",
    "        try:\n",
    "            sku = saldo['SKU']\n",
    "            saldo = float(str(saldo['SALDO']).strip().replace(\".\",\"\").replace(\",\",\".\").replace(\"'\",\"\"))\n",
    "        except:\n",
    "            sku = 'notfound'\n",
    "            saldo = float(0)\n",
    "        lista.append(saldo)\n",
    "\n",
    "    dict_items={\n",
    "\n",
    "        'SKU':sku,\n",
    "        'SALDO':sum(lista)\n",
    "    }\n",
    "    print(dict_items)\n",
    "  \n"
   ]
  }
 ],
 "metadata": {
  "kernelspec": {
   "display_name": "Python 3.9.7 64-bit",
   "language": "python",
   "name": "python3"
  },
  "language_info": {
   "codemirror_mode": {
    "name": "ipython",
    "version": 3
   },
   "file_extension": ".py",
   "mimetype": "text/x-python",
   "name": "python",
   "nbconvert_exporter": "python",
   "pygments_lexer": "ipython3",
   "version": "3.9.7"
  },
  "orig_nbformat": 4,
  "vscode": {
   "interpreter": {
    "hash": "c347c8f9a7ef94e4c9e03b4513be7835ed18f45b99a2a817fb579f408b867b16"
   }
  }
 },
 "nbformat": 4,
 "nbformat_minor": 2
}
